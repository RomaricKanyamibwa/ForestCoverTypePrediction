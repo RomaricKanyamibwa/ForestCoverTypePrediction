{
 "cells": [
  {
   "cell_type": "code",
   "execution_count": 1,
   "metadata": {},
   "outputs": [
    {
     "name": "stdout",
     "output_type": "stream",
     "text": [
      "14\n",
      "feature_name_SelectKBest ['Elevation' 'Aspect' 'Slope' 'Horizontal_Distance_To_Hydrology'\n",
      " 'Vertical_Distance_To_Hydrology' 'Hillshade_3pm' 'Wilderness_Area_3'\n",
      " 'Soil_Type_3' 'Soil_Type_9' 'Soil_Type_37']\n",
      "\n",
      "=====================\n",
      "\n",
      "\n",
      "=====================\n",
      "1\n",
      "feature_name_ExtraTreeClassifier ['Elevation' 'Aspect' 'Slope' 'Horizontal_Distance_To_Hydrology'\n",
      " 'Vertical_Distance_To_Hydrology' 'Horizontal_Distance_To_Roadways'\n",
      " 'Hillshade_9am' 'Hillshade_Noon' 'Hillshade_3pm' 'Wilderness_Area_3']\n"
     ]
    }
   ],
   "source": [
    "import numpy as np\n",
    "import pandas as pd\n",
    "from pandas import read_csv\n",
    "import matplotlib.pyplot as plt\n",
    "from sklearn import svm\n",
    "from sklearn.decomposition import PCA\n",
    "\n",
    "# feature selection RFE\n",
    "from sklearn.feature_selection import RFE\n",
    "from sklearn.linear_model import LogisticRegression\n",
    "\n",
    "# Feature selection chi2\n",
    "from sklearn.feature_selection import SelectKBest\n",
    "from sklearn.feature_selection import chi2\n",
    "\n",
    "# Feature selection from sklearn.ensemble import ExtraTreesClassifier\n",
    "from sklearn.ensemble import ExtraTreesClassifier\n",
    "\n",
    "\n",
    "import warnings # current verimport matplotlib.pyplot as pltsion of seaborn generates a bunch of warnings that we'll ignore\n",
    "warnings.filterwarnings(\"ignore\")\n",
    "import seaborn as sns\n",
    "sns.set(style=\"white\", color_codes=True)\n",
    "\n",
    "from matplotlib.colors import ListedColormap\n",
    "from sklearn.model_selection import train_test_split\n",
    "from sklearn.preprocessing import StandardScaler\n",
    "from sklearn.datasets import make_moons, make_circles, make_classification\n",
    "from sklearn.neural_network import MLPClassifier\n",
    "from sklearn.neighbors import KNeighborsClassifier\n",
    "from sklearn.svm import SVC\n",
    "from sklearn.gaussian_process import GaussianProcessClassifier\n",
    "from sklearn.gaussian_process.kernels import RBF\n",
    "from sklearn.tree import DecisionTreeClassifier\n",
    "from sklearn.ensemble import RandomForestClassifier, AdaBoostClassifier\n",
    "from sklearn.naive_bayes import GaussianNB\n",
    "from sklearn.discriminant_analysis import QuadraticDiscriminantAnalysis\n",
    "\n",
    "#===================================#\n",
    "# Lecture de données\n",
    "filename = \"covtype.data\"\n",
    "\n",
    "\n",
    "inf=[\"\"]*55\n",
    "names=[\"Elevation\",\"Aspect\",\"Slope\",\n",
    "       \"Horizontal_Distance_To_Hydrology\",\"Vertical_Distance_To_Hydrology\",\n",
    "       \"Horizontal_Distance_To_Roadways\",\"Hillshade_9am\",\"Hillshade_Noon\",\"Hillshade_3pm\",\n",
    "       \"Horizontal_Distance_To_Fire_Points\",'Wilderness_Area_1','Wilderness_Area_2',\n",
    "       'Wilderness_Area_3','Wilderness_Area_4']\n",
    "inf[0:len(names)]=names\n",
    "print(len(names))       \n",
    "sole_type=[]\n",
    "    \n",
    "for i in range(len(names),54):\n",
    "    val = \"Soil_Type_\"+str(i-len(names)+1)\n",
    "    inf[i]=val\n",
    "    sole_type.append(val)\n",
    "inf[54]=\"Cover_Type\"\n",
    "\n",
    "data = pd.read_csv(filename,names= inf)\n",
    "data.head(2)\n",
    "\n",
    "#============================================#\n",
    "# Data (laod data)\n",
    "X = data.drop([\"Cover_Type\",\"Vertical_Distance_To_Hydrology\"],axis=1)\n",
    "Y = data[\"Cover_Type\"]\n",
    "y = data[\"Cover_Type\"]\n",
    "#==========================================#\n",
    "\n",
    "# load data\n",
    "K = 10 # number of feature to select\n",
    "\n",
    "# feature extraction\n",
    "test = SelectKBest(score_func=chi2, k=K)\n",
    "fit = test.fit(X, Y)\n",
    "# summarize scores\n",
    "np.set_printoptions(precision=3)\n",
    "#print(fit.scores_)\n",
    "features = fit.transform(X)\n",
    "indices_of_feature = np.flip(np.argsort(fit.scores_))\n",
    "indices_of_first_feature =indices_of_feature[0:K]\n",
    "feature_name_SelectKBest = np.take(inf,np.sort(indices_of_first_feature))\n",
    "\n",
    "model = ExtraTreesClassifier()\n",
    "model.fit(X, Y)\n",
    "indices_of_feature = np.flip(np.argsort(model.feature_importances_))\n",
    "#print(indices_of_feature)\n",
    "indices_of_first_feature =indices_of_feature[0:K]\n",
    "feature_name_ExtraTreeClassifier = np.take(inf,np.sort(indices_of_first_feature))\n",
    "\n",
    "# comparaison des deux modèles\n",
    "print(\"feature_name_SelectKBest\",feature_name_SelectKBest)\n",
    "print(\"\\n=====================\\n\")\n",
    "print(\"\\n=====================\\n1\")\n",
    "print(\"feature_name_ExtraTreeClassifier\",feature_name_ExtraTreeClassifier)\n",
    "\n"
   ]
  },
  {
   "cell_type": "code",
   "execution_count": 2,
   "metadata": {},
   "outputs": [
    {
     "name": "stdout",
     "output_type": "stream",
     "text": [
      "['Elevation' 'Aspect' 'Slope' 'Horizontal_Distance_To_Hydrology'\n",
      " 'Vertical_Distance_To_Hydrology' 'Hillshade_3pm' 'Wilderness_Area_3'\n",
      " 'Soil_Type_3' 'Soil_Type_9' 'Soil_Type_37']\n"
     ]
    }
   ],
   "source": [
    "print(feature_name_SelectKBest)"
   ]
  },
  {
   "cell_type": "code",
   "execution_count": 4,
   "metadata": {},
   "outputs": [],
   "source": [
    "Cover_type_4 = data.loc[data[\"Cover_Type\"]==4]\n",
    "length=  len(Cover_type_4)\n",
    "\n",
    "Cover_type_1 = data.loc[data[\"Cover_Type\"]==1].iloc[0:length,:]\n",
    "Cover_type_2 = data.loc[data[\"Cover_Type\"]==2].iloc[0:length,:]\n",
    "Cover_type_3 = data.loc[data[\"Cover_Type\"]==3].iloc[0:length,:]\n",
    "Cover_type_5 = data.loc[data[\"Cover_Type\"]==5].iloc[0:length,:]\n",
    "Cover_type_6 = data.loc[data[\"Cover_Type\"]==6].iloc[0:length,:]\n",
    "Cover_type_7 = data.loc[data[\"Cover_Type\"]==7].iloc[0:length,:]\n",
    "\n",
    "frames = [Cover_type_1,Cover_type_2,Cover_type_3,Cover_type_4,Cover_type_5,Cover_type_6,Cover_type_7]\n",
    "N_data = pd.concat(frames)\n",
    "\n",
    "\n",
    "y = N_data[\"Cover_Type\"]\n",
    "\n",
    "Cover_type_1 = data.loc[data[\"Cover_Type\"]==1]\n",
    "Cover_type_2 = data.loc[data[\"Cover_Type\"]==2]\n",
    "frames = [Cover_type_1,Cover_type_2]\n",
    "data_2_Classes = pd.concat(frames)\n",
    "y2 = data_2_Classes[\"Cover_Type\"]"
   ]
  },
  {
   "cell_type": "code",
   "execution_count": 5,
   "metadata": {},
   "outputs": [],
   "source": [
    "important_features = ['Elevation','Aspect' ,'Slope', 'Horizontal_Distance_To_Hydrology',\n",
    " 'Vertical_Distance_To_Hydrology' ,'Hillshade_3pm' ,'Wilderness_Area_3']\n",
    "y = N_data[\"Cover_Type\"]\n",
    "\n",
    "data_variable_selection = N_data[important_features]\n",
    "data_variable_selection_2_class = data_2_Classes[important_features]\n"
   ]
  },
  {
   "cell_type": "code",
   "execution_count": 7,
   "metadata": {},
   "outputs": [],
   "source": [
    "# process dataset, split into training and tst part\n",
    "Xs = StandardScaler().fit_transform(data_variable_selection)\n",
    "X_train, X_test, y_train, y_test = train_test_split(Xs, y, test_size=.3, random_state=42)\n",
    "\n",
    "Xs2 = StandardScaler().fit_transform(data_variable_selection_2_class)\n",
    "X2_train, X2_test, y2_train, y2_test = train_test_split(Xs2, y2, test_size=.3, random_state=42)\n",
    "\n",
    "Xs22 = StandardScaler().fit_transform(data_2_Classes)\n",
    "X22_train, X22_test, y22_train, y22_test = train_test_split(Xs22, y2, test_size=.3, random_state=42)\n"
   ]
  },
  {
   "cell_type": "code",
   "execution_count": 6,
   "metadata": {},
   "outputs": [
    {
     "data": {
      "image/png": "[encoded data removed]",
      "text/plain": [
       "<Figure size 432x288 with 1 Axes>"
      ]
     },
     "metadata": {
      "needs_background": "light"
     },
     "output_type": "display_data"
    }
   ],
   "source": [
    "plt.hist(y2_train, range = (1, 2), bins = 2, color = 'green',\n",
    "            edgecolor = 'red')\n",
    "plt.xlabel('Cover_Type train')\n",
    "plt.ylabel('Repetetion')\n",
    "plt.title('classes')\n",
    "plt.show()"
   ]
  },
  {
   "cell_type": "code",
   "execution_count": 22,
   "metadata": {},
   "outputs": [
    {
     "name": "stdout",
     "output_type": "stream",
     "text": [
      "iciciccicici\n",
      "Nearest Neighbors : 0.7261223782284625\n",
      "Decision Tree : 0.6593863754550182\n",
      "Random Forest : 0.6527994453111458\n",
      "Neural Net : 0.6912809845727163\n",
      "AdaBoost : 0.40908302998786616\n",
      "Naive Bayes : 0.4855260877101751\n",
      "QDA : 0.48153926157046284\n"
     ]
    }
   ],
   "source": [
    "names = [\"Nearest Neighbors\", \n",
    "         \"Decision Tree\",\n",
    "         \"Random Forest\", \n",
    "         \"Neural Net\",\n",
    "         \"AdaBoost\",\n",
    "         \"Naive Bayes\", \n",
    "         \"QDA\"]#,\n",
    "         #\"Linear SVM\",\n",
    "         #\"RBF SVM\"],\n",
    "         #\"Gaussian Process\"]\n",
    "\n",
    "classifiers = [\n",
    "    KNeighborsClassifier(),\n",
    "    DecisionTreeClassifier(max_depth=5),\n",
    "    RandomForestClassifier(max_depth=5, n_estimators=10, max_features=7),\n",
    "    MLPClassifier(alpha=1),\n",
    "    AdaBoostClassifier(),\n",
    "    GaussianNB(),\n",
    "    QuadraticDiscriminantAnalysis()]#,\n",
    "    #SVC(kernel=\"linear\", C=0.025),\n",
    "    #SVC(gamma=2, C=1)],\n",
    "    #GaussianProcessClassifier(1.0 * RBF(1.0))]\n",
    "print(\"iciciccicici\")\n",
    "for name, clf in zip(names, classifiers):\n",
    "        clf.fit(X_train, y_train)\n",
    "        score = clf.score(X_test, y_test)\n",
    "        print(name ,\":\", score)\n"
   ]
  },
  {
   "cell_type": "code",
   "execution_count": 27,
   "metadata": {},
   "outputs": [],
   "source": [
    "# process dataset, split into training and tst part\n",
    "Xs = StandardScaler().fit_transform(N_data)\n",
    "X_train, X_test, y_train, y_test = train_test_split(Xs, y, test_size=.2, random_state=42)"
   ]
  },
  {
   "cell_type": "code",
   "execution_count": 32,
   "metadata": {},
   "outputs": [
    {
     "data": {
      "image/png": "[encoded data removed]",
      "text/plain": [
       "<Figure size 432x288 with 1 Axes>"
      ]
     },
     "metadata": {
      "needs_background": "light"
     },
     "output_type": "display_data"
    }
   ],
   "source": [
    "plt.hist(y_train, range = (1, 7), bins = 7, color = 'red',\n",
    "            edgecolor = 'red')\n",
    "plt.xlabel('Cover_Type train')\n",
    "plt.ylabel('Repetetion')\n",
    "plt.title('classes')\n",
    "plt.show()"
   ]
  },
  {
   "cell_type": "code",
   "execution_count": 33,
   "metadata": {},
   "outputs": [
    {
     "data": {
      "image/png": "[encoded data removed]",
      "text/plain": [
       "<Figure size 432x288 with 1 Axes>"
      ]
     },
     "metadata": {
      "needs_background": "light"
     },
     "output_type": "display_data"
    }
   ],
   "source": [
    "plt.hist(y_test, range = (1, 7), bins = 7, color = 'blue',\n",
    "            edgecolor = 'red')\n",
    "plt.xlabel('Cover_Type test')\n",
    "plt.ylabel('Repetetion')\n",
    "plt.title('classes')\n",
    "plt.show()"
   ]
  },
  {
   "cell_type": "code",
   "execution_count": 28,
   "metadata": {},
   "outputs": [
    {
     "name": "stdout",
     "output_type": "stream",
     "text": [
      "iciciccicici\n",
      "Nearest Neighbors : 0.9271970878835153\n",
      "Decision Tree : 1.0\n",
      "Random Forest : 0.8660946437857514\n",
      "Neural Net : 0.9968798751950078\n",
      "AdaBoost : 0.4173166926677067\n",
      "Naive Bayes : 1.0\n",
      "QDA : 1.0\n"
     ]
    }
   ],
   "source": [
    "names = [\"Nearest Neighbors\", \n",
    "         \"Decision Tree\",\n",
    "         \"Random Forest\", \n",
    "         \"Neural Net\",\n",
    "         \"AdaBoost\",\n",
    "         \"Naive Bayes\", \n",
    "         \"QDA\"]#,\n",
    "         #\"Linear SVM\",\n",
    "         #\"RBF SVM\"],\n",
    "         #\"Gaussian Process\"]\n",
    "\n",
    "classifiers = [\n",
    "    KNeighborsClassifier(),\n",
    "    DecisionTreeClassifier(max_depth=5),\n",
    "    RandomForestClassifier(max_depth=5, n_estimators=10, max_features=7),\n",
    "    MLPClassifier(alpha=1),\n",
    "    AdaBoostClassifier(),\n",
    "    GaussianNB(),\n",
    "    QuadraticDiscriminantAnalysis()]#,\n",
    "    #SVC(kernel=\"linear\", C=0.025),\n",
    "    #SVC(gamma=2, C=1)],\n",
    "    #GaussianProcessClassifier(1.0 * RBF(1.0))]\n",
    "print(\"iciciccicici\")\n",
    "for name, clf in zip(names, classifiers):\n",
    "        clf.fit(X_train, y_train)\n",
    "        score = clf.score(X_test, y_test)\n",
    "        print(name ,\":\", score)"
   ]
  },
  {
   "cell_type": "code",
   "execution_count": 29,
   "metadata": {},
   "outputs": [
    {
     "data": {
      "image/png": "[encoded data removed]",
      "text/plain": [
       "<Figure size 432x288 with 1 Axes>"
      ]
     },
     "metadata": {
      "needs_background": "light"
     },
     "output_type": "display_data"
    }
   ],
   "source": [
    "plt.hist(y, range = (1, 7), bins = 7, color = 'yellow',\n",
    "            edgecolor = 'red')\n",
    "plt.xlabel('Cover_Type')\n",
    "plt.ylabel('Repetetion')\n",
    "plt.title('classes')\n",
    "plt.show()"
   ]
  },
  {
   "cell_type": "code",
   "execution_count": 7,
   "metadata": {},
   "outputs": [
    {
     "name": "stdout",
     "output_type": "stream",
     "text": [
      "Classification\n",
      "iciciccicici\n",
      "Nearest Neighbors : 0.8385585318729257\n",
      "Decision Tree : 0.7604599341604787\n",
      "Random Forest : 0.7616717044896091\n",
      "Neural Net : 0.7675151302989707\n",
      "AdaBoost : 0.7648626996896521\n",
      "Naive Bayes : 0.7439192691678503\n",
      "QDA : 0.7493991638784729\n"
     ]
    }
   ],
   "source": [
    "print(\"Classification 2 classes not all variables\")\n",
    "names = [\"Nearest Neighbors\", \n",
    "         \"Decision Tree\",\n",
    "         \"Random Forest\", \n",
    "         \"Neural Net\",\n",
    "         \"AdaBoost\",\n",
    "         \"Naive Bayes\", \n",
    "         \"QDA\"]#,\n",
    "         #\"Linear SVM\",\n",
    "         #\"RBF SVM\"],\n",
    "         #\"Gaussian Process\"]\n",
    "\n",
    "classifiers = [\n",
    "    KNeighborsClassifier(),\n",
    "    DecisionTreeClassifier(max_depth=5),\n",
    "    RandomForestClassifier(max_depth=5, n_estimators=10, max_features=7),\n",
    "    MLPClassifier(alpha=1),\n",
    "    AdaBoostClassifier(),\n",
    "    GaussianNB(),\n",
    "    QuadraticDiscriminantAnalysis()]#,\n",
    "    #SVC(kernel=\"linear\", C=0.025),\n",
    "    #SVC(gamma=2, C=1)],\n",
    "    #GaussianProcessClassifier(1.0 * RBF(1.0))]\n",
    "print(\"iciciccicici\")\n",
    "for name, clf in zip(names, classifiers):\n",
    "        clf.fit(X2_train, y2_train)\n",
    "        score = clf.score(X2_test, y2_test)\n",
    "        print(name ,\":\", score)"
   ]
  },
  {
   "cell_type": "code",
   "execution_count": null,
   "metadata": {},
   "outputs": [
    {
     "name": "stdout",
     "output_type": "stream",
     "text": [
      "Classification 2 classes all variables\n",
      "iciciccicici\n"
     ]
    }
   ],
   "source": [
    "print(\"Classification 2 classes all variables\")\n",
    "names = [\"Nearest Neighbors\", \n",
    "         \"Decision Tree\",\n",
    "         \"Random Forest\", \n",
    "         \"Neural Net\",\n",
    "         \"AdaBoost\",\n",
    "         \"Naive Bayes\", \n",
    "         \"QDA\"]#,\n",
    "         #\"Linear SVM\",\n",
    "         #\"RBF SVM\"],\n",
    "         #\"Gaussian Process\"]\n",
    "\n",
    "classifiers = [\n",
    "    KNeighborsClassifier(),\n",
    "    DecisionTreeClassifier(max_depth=5),\n",
    "    RandomForestClassifier(max_depth=5, n_estimators=10, max_features=7),\n",
    "    MLPClassifier(alpha=1),\n",
    "    AdaBoostClassifier(),\n",
    "    GaussianNB(),\n",
    "    QuadraticDiscriminantAnalysis()]#,\n",
    "    #SVC(kernel=\"linear\", C=0.025),\n",
    "    #SVC(gamma=2, C=1)],\n",
    "    #GaussianProcessClassifier(1.0 * RBF(1.0))]\n",
    "print(\"iciciccicici\")\n",
    "for name, clf in zip(names, classifiers):\n",
    "        clf.fit(X22_train, y22_train)\n",
    "        score = clf.score(X22_test, y22_test)\n",
    "        print(name ,\":\", score)"
   ]
  },
  {
   "cell_type": "code",
   "execution_count": null,
   "metadata": {},
   "outputs": [],
   "source": []
  }
 ],
 "metadata": {
  "kernelspec": {
   "display_name": "Python 3",
   "language": "python",
   "name": "python3"
  },
  "language_info": {
   "codemirror_mode": {
    "name": "ipython",
    "version": 3
   },
   "file_extension": ".py",
   "mimetype": "text/x-python",
   "name": "python",
   "nbconvert_exporter": "python",
   "pygments_lexer": "ipython3",
   "version": "3.6.6"
  }
 },
 "nbformat": 4,
 "nbformat_minor": 2
}
